{
  "cells": [
    {
      "cell_type": "markdown",
      "metadata": {
        "id": "OyLBK2N3SWG0"
      },
      "source": [
        "---\n",
        "## Exercises for Students\n",
        "\n",
        "1. Calculate the sum of matrices $A=\\begin{bmatrix} 1 & 2 \\\\ 3 & 4 \\end{bmatrix}$ and $B=\\begin{bmatrix} 5 & 6 \\\\ 7 & 8 \\end{bmatrix}$.\n",
        "\n",
        "2. Calculate the product of matrix $A=\\begin{bmatrix} 4 & 2 \\\\ 12 & 4 \\end{bmatrix}$ and scalar $k=\\frac{1}{4}$.\n",
        "\n",
        "3. Calculate the products $A\\cdot B$ and $B \\cdot A$ for matrices $A=\\begin{bmatrix} 3 & 2 \\\\ 2 & 4 \\end{bmatrix}$ and $B=\\begin{bmatrix} 4 & 1 \\\\ 6 & 4 \\end{bmatrix}$."
      ]
    },
    {
      "cell_type": "markdown",
      "metadata": {
        "id": "8b6IymqCRfXm"
      },
      "source": [
        "# Basic Matrix Operations\n",
        "\n",
        "### Matrix Addition\n",
        "\n",
        "Let $A=[a_{ij}]$ and $B=[b_{ij}]$ be two matrices of dimensions $m \\times n$. Then the sum of matrices $A$ and $B$ is the matrix $C=[c_{ij}]$ of dimensions $m \\times n$, where $c_{ij}=a_{ij}+b_{ij}$.\n",
        "\n",
        "### Matrix Scalar Multiplication\n",
        "\n",
        "Let $A=[a_{ij}]$ be a matrix of dimensions $m \\times n$, and let $k$ be a scalar. Then the product of matrix $A$ and scalar $k$ is the matrix $B=[b_{ij}]$ of dimensions $m \\times n$, where $b_{ij}=k \\cdot a_{ij}$.\n",
        "\n",
        "### Matrix Multiplication\n",
        "\n",
        "Let $A=[a_{ij}]$ be a matrix of dimensions $m \\times n$, and $B=[b_{ij}]$ be a matrix of dimensions $n \\times p$. Then the product of matrices $A$ and $B$ is the matrix $C=[c_{ij}]$ of dimensions $m \\times p$, where $c_{ij}=\\sum_{k=1}^{n} a_{ik} \\cdot b_{kj}$.\n",
        "\n",
        "\n",
        "### Example 1\n",
        "\n",
        "Let $A=\\begin{bmatrix} 1 & 2 \\\\ 3 & 4 \\end{bmatrix}$ and $B=\\begin{bmatrix} 5 & 6 \\\\ 7 & 8 \\end{bmatrix}$.\n",
        "Then the sum of matrices $A$ and $B$ is\n",
        "\n",
        "$$\n",
        "C=\n",
        "A+B=\\begin{bmatrix} 1+5 & 2+6 \\\\ 3+7 & 4+8 \\end{bmatrix}=\\begin{bmatrix} 6 & 8 \\\\ 10 & 12 \\end{bmatrix}.\n",
        "$$\n",
        "\n",
        "### Example 2\n",
        "\n",
        "Let $A=\\begin{bmatrix} 1 & 2 \\\\ 3 & 4 \\end{bmatrix}$ and $k=2$.\n",
        "\n",
        "Then the product of matrix $A$ and scalar $k$ is\n",
        "\n",
        "$$\n",
        "B=\n",
        "k \\cdot A=2 \\cdot \\begin{bmatrix} 1 & 2 \\\\ 3 & 4 \\end{bmatrix}=\\begin{bmatrix} 2*1 & 2*2 \\\\ 2*3 & 2*4 \\end{bmatrix}=\\begin{bmatrix} 2 & 4 \\\\ 6 & 8 \\end{bmatrix}.\n",
        "$$\n",
        "\n",
        "### Example 3\n",
        "\n",
        "Let\n",
        "$A=\\begin{bmatrix} 1 & 2 \\\\ 3 & 4 \\end{bmatrix}$\n",
        "and\n",
        "$B=\\begin{bmatrix} 5 & 6 \\\\ 7 & 8 \\end{bmatrix}$.\n",
        "\n",
        "Then the product of matrices $A$ and $B$ is\n",
        "\n",
        "$$\n",
        "C=\n",
        "A \\cdot B=\\begin{bmatrix} 1*5+2*7 & 1*6+2*8 \\\\ 3*5+4*7 & 3*6+4*8 \\end{bmatrix}=\\begin{bmatrix} 19 & 22 \\\\ 43 & 50 \\end{bmatrix}.\n",
        "$$"
      ]
    },
    {
      "cell_type": "code",
      "execution_count": null,
      "metadata": {
        "id": "lTqnztAbRfXo"
      },
      "outputs": [],
      "source": [
        "# Example 1: Matrix addition in sympy\n",
        "import sympy as sp\n",
        "\n",
        "A=sp.Matrix([[1,2],[3,4]])\n",
        "B=sp.Matrix([[5,6],[7,8]])\n",
        "A # display matrix A"
      ]
    },
    {
      "cell_type": "code",
      "execution_count": null,
      "metadata": {
        "id": "z_AP9v4yRfXo"
      },
      "outputs": [],
      "source": [
        "B # display matrix B"
      ]
    },
    {
      "cell_type": "code",
      "execution_count": null,
      "metadata": {
        "id": "djqL9CopRfXo"
      },
      "outputs": [],
      "source": [
        "sp.Matrix([[6,8],[10,12]])==A+B # verify matrix addition"
      ]
    },
    {
      "cell_type": "code",
      "execution_count": null,
      "metadata": {
        "id": "vZRPJQJHRfXp"
      },
      "outputs": [],
      "source": [
        "# Example 2: Scalar multiplication\n",
        "A=sp.Matrix([[1,2],[3,4]]) # define matrix A\n",
        "\n",
        "sp.Matrix([[2,4],[6,8]])==2*A # verify scalar multiplication"
      ]
    },
    {
      "cell_type": "code",
      "execution_count": null,
      "metadata": {
        "id": "kWsJU4cGRfXp"
      },
      "outputs": [],
      "source": [
        "# Example 3: Multiplication of two matrices\n",
        "\n",
        "A=sp.Matrix([[1,2],[3,4]]) # define matrix A\n",
        "B=sp.Matrix([[5,6],[7,8]]) # define matrix B\n",
        "\n",
        "sp.Matrix([[19,22],[43,50]])==A*B # verify matrix multiplication"
      ]
    },
    {
      "cell_type": "markdown",
      "metadata": {
        "id": "vtIlxlfKRfXp"
      },
      "source": [
        "### Necessary Condition for Matrix Multiplication\n",
        "\n",
        "Remember that matrices can have different numbers of rows and columns.\n",
        "\n",
        "To multiply two matrices $A_{m \\times n}$ and $B_{n \\times k}$, where $A$ has dimensions $m \\times n$ and $B$ has dimensions $n \\times k$, the number of columns of matrix $A$ must equal the number of rows of matrix $B$. Otherwise, matrix multiplication is not possible.\n",
        "\n",
        "$$\n",
        "A_{m \\times n} \\cdot B_{n \\times k} = C_{m \\times k}\n",
        "$$\n",
        "\n",
        "For example, if $A_{3 \\times 3}$ and $B_{3 \\times 3}$, then the resulting matrix $C_{3 \\times 3}$.\n",
        "\n",
        "<img src=\"https://www.mscroggs.co.uk/img/full/multiply_matrices.gif\" alt=\"Matrix Multiplication GIF\" width=\"400\">\n",
        "\n",
        "### Matrix Multiplication is Not Commutative\n",
        "\n",
        "Matrix multiplication is not commutative, i.e., in general $A \\cdot B \\neq B \\cdot A$."
      ]
    },
    {
      "cell_type": "code",
      "execution_count": null,
      "metadata": {
        "id": "nPO9bHSFRfXp"
      },
      "outputs": [],
      "source": [
        "# Example of multiplying rectangular matrices\n",
        "import sympy as sp\n",
        "A=sp.Matrix([[1,2],[3,4],[5,6]]) # define matrix A_{3 x 2}\n",
        "B=sp.Matrix([[1,2,3],[4,5,6]]) # define matrix B_{2 x 3}\n",
        "C=sp.Matrix([[9,12,15],[19,26,33],[29,40,51]]) # define matrix C_{3 x 3}\n",
        "\n",
        "A*B # multiply matrices A and B to get a 3x3 matrix"
      ]
    },
    {
      "cell_type": "code",
      "execution_count": null,
      "metadata": {
        "id": "1cwt9awNRfXp"
      },
      "outputs": [],
      "source": [
        "B*A # multiply matrices B and A to get a 2x2 matrix"
      ]
    },
    {
      "cell_type": "code",
      "execution_count": null,
      "metadata": {
        "id": "RCvhbUV7RfXp"
      },
      "outputs": [],
      "source": [
        "B*C # multiply matrices B and C to get a 2x3 matrix"
      ]
    },
    {
      "cell_type": "markdown",
      "metadata": {
        "id": "btGlvv0hRfXp"
      },
      "source": [
        "---\n",
        "## Exercises for Students\n",
        "\n",
        "1. Calculate the sum of matrices $A=\\begin{bmatrix} 1 & 2 \\\\ 3 & 4 \\end{bmatrix}$ and $B=\\begin{bmatrix} 5 & 6 \\\\ 7 & 8 \\end{bmatrix}$.\n",
        "\n",
        "2. Calculate the product of matrix $A=\\begin{bmatrix} 4 & 2 \\\\ 12 & 4 \\end{bmatrix}$ and scalar $k=\\frac{1}{4}$.\n",
        "\n",
        "3. Calculate the products $A\\cdot B$ and $B \\cdot A$ for matrices $A=\\begin{bmatrix} 3 & 2 \\\\ 2 & 4 \\end{bmatrix}$ and $B=\\begin{bmatrix} 4 & 1 \\\\ 6 & 4 \\end{bmatrix}$."
      ]
    },
    {
      "cell_type": "markdown",
      "source": [
        "#Task 1:\n",
        "Let $A=\\begin{bmatrix} 1 & 2 \\\\ 3 & 4 \\end{bmatrix}$ and $B=\\begin{bmatrix} 5 & 6 \\\\ 7 & 8 \\end{bmatrix}$.\n",
        "\n",
        "To add two matrices, we add the corresponding elements:\n",
        "\n",
        "$A + B = \\begin{bmatrix} 1+5 & 2+6 \\\\ 3+7 & 4+8 \\end{bmatrix}$\n",
        "\n",
        "$A + B = \\begin{bmatrix} 6 & 8 \\\\ 10 & 12 \\end{bmatrix}$\n",
        "\n",
        "Therefore, the sum of matrices A and B is:\n",
        "\n",
        "$\\begin{bmatrix} 6 & 8 \\\\ 10 & 12 \\end{bmatrix}$"
      ],
      "metadata": {
        "id": "14Ml6x5tU_s2"
      }
    },
    {
      "cell_type": "code",
      "source": [
        "import numpy as np\n",
        "\n",
        "# Define matrices A and B\n",
        "\n",
        "A = np.array([[1, 2], [3, 4]])\n",
        "\n",
        "B = np.array([[5, 6], [7, 8]])\n",
        "\n",
        "# Calculate the sum of A and B\n",
        "\n",
        "sum_matrix = A + B\n",
        "\n",
        "sum_matrix\n",
        "\n"
      ],
      "metadata": {
        "id": "0bUZEpeqVBVY",
        "outputId": "9bc69b02-4b55-4368-adbe-14f95a845038",
        "colab": {
          "base_uri": "https://localhost:8080/"
        }
      },
      "execution_count": null,
      "outputs": [
        {
          "output_type": "execute_result",
          "data": {
            "text/plain": [
              "array([[ 6,  8],\n",
              "       [10, 12]])"
            ]
          },
          "metadata": {},
          "execution_count": 1
        }
      ]
    },
    {
      "cell_type": "markdown",
      "source": [
        "#Task2\n",
        "$A=\\begin{bmatrix} 4 & 2 \\\\ 12 & 4 \\end{bmatrix}$ and scalar $k=\\frac{1}{4}$     \n",
        "$A*1/4=\\begin{bmatrix} 4*1/4 & 2*1/4 \\\\ 12*1/4 & 4*1/4 \\end{bmatrix}$       \n",
        "##For better understanding we multiplied each number with n*0.25.\n",
        "\n",
        "$A*1/4=\\begin{bmatrix} 1 & 0.5 \\\\ 3 & 1 \\end{bmatrix}$\n",
        "\n",
        "To verify the correct answer. I used python below:\n",
        "\n"
      ],
      "metadata": {
        "id": "eFO6heMCZBQy"
      }
    },
    {
      "cell_type": "code",
      "source": [
        "import numpy as np\n",
        "\n",
        "# Define the matrix A\n",
        "A = np.array([[4, 2], [12, 4]])\n",
        "\n",
        "# Define the scalar k\n",
        "k = 1/4\n",
        "\n",
        "# Calculate the product of A and k\n",
        "product = k * A\n",
        "\n",
        "# Print the product\n",
        "print(product)"
      ],
      "metadata": {
        "id": "D81J4SYLgU1d",
        "outputId": "2600ee89-333a-4c6d-849c-af3e1d3ef50a",
        "colab": {
          "base_uri": "https://localhost:8080/"
        }
      },
      "execution_count": 1,
      "outputs": [
        {
          "output_type": "stream",
          "name": "stdout",
          "text": [
            "[[1.  0.5]\n",
            " [3.  1. ]]\n"
          ]
        }
      ]
    },
    {
      "cell_type": "markdown",
      "source": [
        "Calculating A ⋅ B\n",
        "\n",
        "$$ A \\cdot B = \\begin{bmatrix} 3 & 2 \\\\ 2 & 4 \\end{bmatrix} \\cdot \\begin{bmatrix} 4 & 1 \\\\ 6 & 4 \\end{bmatrix} $$$$ B \\cdot A = \\begin{bmatrix} 4 & 1 \\\\ 6 & 4 \\end{bmatrix} \\cdot \\begin{bmatrix} 3 & 2 \\\\ 2 & 4 \\end{bmatrix} $$\n",
        "\n",
        "To perform matrix multiplication, we multiply the elements of each row of the first matrix by the corresponding elements of each column of the second matrix and sum the results.\n",
        "\n",
        "$$ A \\cdot B = \\begin{bmatrix} (3 \\cdot 4 + 2 \\cdot 6) & (3 \\cdot 1 + 2 \\cdot 4) \\\\ (2 \\cdot 4 + 4 \\cdot 6) & (2 \\cdot 1 + 4 \\cdot 4) \\end{bmatrix} $$$$ B \\cdot A = \\begin{bmatrix} (4 \\cdot 3 + 1 \\cdot 2) & (4 \\cdot 2 + 1 \\cdot 4) \\\\ (6 \\cdot 3 + 4 \\cdot 2) & (6 \\cdot 2 + 4 \\cdot 4) \\end{bmatrix} $$\n",
        "\n",
        "$$ A \\cdot B = \\begin{bmatrix} (12 + 12) & (3 + 8) \\\\ (8 + 24) & (2 + 16) \\end{bmatrix} $$$$ B \\cdot A = \\begin{bmatrix} (12 + 2) & (8 + 4) \\\\ (18 + 8) & (12 + 16) \\end{bmatrix} $$\n",
        "\n",
        "$$ A \\cdot B = \\begin{bmatrix} 24 & 11 \\\\ 32 & 18 \\end{bmatrix} $$$$ B \\cdot A = \\begin{bmatrix} 14 & 12 \\\\ 26 & 28 \\end{bmatrix} $$\n",
        "\n",
        "Calculating B ⋅ A\n",
        "\n",
        "$$ B \\cdot A = \\begin{bmatrix} 4 & 1 \\\\ 6 & 4 \\end{bmatrix} \\cdot \\begin{bmatrix} 3 & 2 \\\\ 2 & 4 \\end{bmatrix} $$$$ B \\cdot A = \\begin{bmatrix} 4 & 1 \\\\ 6 & 4 \\end{bmatrix} \\cdot \\begin{bmatrix} 3 & 2 \\\\ 2 & 4 \\end{bmatrix} $$\n",
        "\n",
        "Therefore:\n",
        "\n",
        "A ⋅ B = $$\\begin{bmatrix} 24 & 11 \\\\ 32 & 18 \\end{bmatrix}$$$$\\begin{bmatrix} 24 & 11 \\\\ 32 & 18 \\end{bmatrix}$$\n",
        "B ⋅ A = $$\\begin{bmatrix} 14 & 12 \\\\ 26 & 28 \\end{bmatrix}$$$$\\begin{bmatrix} 14 & 12 \\\\ 26 & 28 \\end{bmatrix}$$"
      ],
      "metadata": {
        "id": "gRdTQaDfgrpJ"
      }
    },
    {
      "cell_type": "markdown",
      "source": [
        "to verify we use pythong gemini ai :"
      ],
      "metadata": {
        "id": "0BmiS_mXktZo"
      }
    },
    {
      "cell_type": "code",
      "source": [
        "import numpy as np\n",
        "\n",
        "# Define matrices A and B\n",
        "A = np.array([[3, 2], [2, 4]])\n",
        "B = np.array([[4, 1], [6, 4]])\n",
        "\n",
        "# Calculate A ⋅ B\n",
        "AB = np.dot(A, B)\n",
        "\n",
        "# Calculate B ⋅ A\n",
        "BA = np.dot(B, A)\n",
        "\n",
        "# Print the results\n",
        "print(\"A ⋅ B:\")\n",
        "print(AB)\n",
        "print(\"\\nB ⋅ A:\")\n",
        "print(BA)"
      ],
      "metadata": {
        "id": "rWNLGbEVkzwz",
        "outputId": "96d9f919-6dd1-403c-c6fb-9b58da2cc282",
        "colab": {
          "base_uri": "https://localhost:8080/"
        }
      },
      "execution_count": 2,
      "outputs": [
        {
          "output_type": "stream",
          "name": "stdout",
          "text": [
            "A ⋅ B:\n",
            "[[24 11]\n",
            " [32 18]]\n",
            "\n",
            "B ⋅ A:\n",
            "[[14 12]\n",
            " [26 28]]\n"
          ]
        }
      ]
    }
  ],
  "metadata": {
    "kernelspec": {
      "display_name": "Python 3",
      "language": "python",
      "name": "python3"
    },
    "language_info": {
      "name": "python",
      "version": "3.11.9"
    },
    "colab": {
      "provenance": []
    }
  },
  "nbformat": 4,
  "nbformat_minor": 0
}